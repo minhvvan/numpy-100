{
  "nbformat": 4,
  "nbformat_minor": 0,
  "metadata": {
    "colab": {
      "name": "100_Numpy_exercises.ipynb의 사본",
      "provenance": [],
      "collapsed_sections": [
        "DirZ1fBH2CV3",
        "MVeYKpVb2CV3",
        "N7U75WlC2CV4",
        "Cqf0HqH32CV4",
        "iwMeIDXl2CV5",
        "bwZV6bWY2CV6",
        "RIfQ3ljQ2CV6",
        "axgLfChq2CV7",
        "scAHvyIN2CV8",
        "EJGGu9oJ2CV9",
        "LAHuZ2uh2CV9",
        "iHV0AB6l2CV-",
        "U_f9m3eP2CV_",
        "XBGrr83v2CV_",
        "kCnt4VtH2CWK",
        "8bXvKmul2CWM",
        "CPT_7Hsi2CWN",
        "PdN2ugBH2CWO",
        "S7MLwGPI2CWP",
        "JDT3UCkg2CWP",
        "sx_DPinp2CWQ",
        "I_0Z5Kr92CWg",
        "uzVGsEMR2CWh",
        "zbhqE42m2CWi",
        "VeLZm-4B2CWi",
        "DNXuJdmH2CWj",
        "UGvdRZII2CWl",
        "q1CVNbwr2CWl",
        "QrIWGEY_2CWm",
        "BX9Fe-Vn2CWm",
        "rfuAtfN_2CWn",
        "BpmDs29h2CWo",
        "s3ZI6Iw22CWo",
        "InPAUr4I2CWp",
        "GIkB5_dw2CWp",
        "CKT8A4j72CWq",
        "DN14ZYgk2CWq",
        "oNV-k_662CWr",
        "A6RindGE2CWs",
        "sr_EyfNe2CWs",
        "xk1IRNTr2CWt",
        "Qj8uW00t2CWu",
        "nF5zc1ma2CWu",
        "Tj0VK6pR2CWv",
        "gPypcP__2CWw",
        "0xSAmoa92CWx",
        "kLSAbFDh2CWy",
        "UbRh-WUC2CWz",
        "8WQa1wF62CWz",
        "pHz7HdTR2CW0",
        "OWyU_U_k2CW1",
        "cBv7m55B2CW1",
        "fg0enrR92CW2",
        "x_f4xQY92CW2",
        "QzBe84wY2CW3",
        "r7wnugtZ2CW4",
        "U-NINCE22CW5",
        "pQW-eqbK2CW5",
        "zcoDjSoa2CW6",
        "IZBwuNN12CW6",
        "ufysmRXh2CW7"
      ],
      "include_colab_link": true
    },
    "kernelspec": {
      "name": "python3",
      "display_name": "Python 3"
    }
  },
  "cells": [
    {
      "cell_type": "markdown",
      "metadata": {
        "id": "view-in-github",
        "colab_type": "text"
      },
      "source": [
        "<a href=\"https://colab.research.google.com/github/minhvvan/numpy-100/blob/master/51~60_100_Numpy_exercises.ipynb\" target=\"_parent\"><img src=\"https://colab.research.google.com/assets/colab-badge.svg\" alt=\"Open In Colab\"/></a>"
      ]
    },
    {
      "cell_type": "markdown",
      "metadata": {
        "id": "k18Dho5C2CVg"
      },
      "source": [
        "# 100 numpy exercises\n",
        "\n",
        "This is a collection of exercises that have been collected in the numpy mailing list, on stack overflow\n",
        "and in the numpy documentation. The goal of this collection is to offer a quick reference for both old\n",
        "and new users but also to provide a set of exercises for those who teach.\n",
        "\n",
        "\n",
        "If you find an error or think you've a better way to solve some of them, feel\n",
        "free to open an issue at <https://github.com/rougier/numpy-100>."
      ]
    },
    {
      "cell_type": "markdown",
      "metadata": {
        "id": "vatOeVvJ2CVr"
      },
      "source": [
        "File automatically generated. See the documentation to update questions/answers/hints programmatically."
      ]
    },
    {
      "cell_type": "markdown",
      "metadata": {
        "id": "AqOyvkZA2CVt"
      },
      "source": [
        "Run the `initialize.py` module, then for each question you can query the\n",
        "answer or an hint with `hint(n)` or `answer(n)` for `n` question number."
      ]
    },
    {
      "cell_type": "code",
      "metadata": {
        "id": "N_u7U5we2CVu",
        "colab": {
          "base_uri": "https://localhost:8080/"
        },
        "outputId": "4245c182-f768-496a-e175-c74443e4ba50"
      },
      "source": [
        "%run initialise.py"
      ],
      "execution_count": null,
      "outputs": [
        {
          "output_type": "stream",
          "text": [
            "ERROR:root:File `'initialise.py'` not found.\n"
          ],
          "name": "stderr"
        }
      ]
    },
    {
      "cell_type": "markdown",
      "metadata": {
        "id": "jmEBKsqL2CVw"
      },
      "source": [
        "#### 1. Import the numpy package under the name `np` (★☆☆)"
      ]
    },
    {
      "cell_type": "code",
      "metadata": {
        "id": "UnFqiZWi2CVy"
      },
      "source": [
        "import numpy as np"
      ],
      "execution_count": 1,
      "outputs": []
    },
    {
      "cell_type": "markdown",
      "metadata": {
        "id": "bo_e4qfH2CVy"
      },
      "source": [
        "#### 2. Print the numpy version and the configuration (★☆☆)"
      ]
    },
    {
      "cell_type": "code",
      "metadata": {
        "id": "FJDQ3xBq2CVz",
        "colab": {
          "base_uri": "https://localhost:8080/"
        },
        "outputId": "9fafb9d7-2e1d-4da4-940e-79db2bfa9954"
      },
      "source": [
        "print(np.__version__)"
      ],
      "execution_count": null,
      "outputs": [
        {
          "output_type": "stream",
          "text": [
            "1.19.4\n"
          ],
          "name": "stdout"
        }
      ]
    },
    {
      "cell_type": "markdown",
      "metadata": {
        "id": "_Gz59p0v2CV0"
      },
      "source": [
        "#### 3. Create a null vector of size 10 (★☆☆)"
      ]
    },
    {
      "cell_type": "code",
      "metadata": {
        "id": "tmDr2SFF2CV0",
        "colab": {
          "base_uri": "https://localhost:8080/"
        },
        "outputId": "8bcce6a7-9731-4999-dba3-d13fb3c95357"
      },
      "source": [
        "x = np.zeros(10)\r\n",
        "x"
      ],
      "execution_count": null,
      "outputs": [
        {
          "output_type": "execute_result",
          "data": {
            "text/plain": [
              "array([0., 0., 0., 0., 0., 0., 0., 0., 0., 0.])"
            ]
          },
          "metadata": {
            "tags": []
          },
          "execution_count": 9
        }
      ]
    },
    {
      "cell_type": "markdown",
      "metadata": {
        "id": "yeflbHQx2CV0"
      },
      "source": [
        "#### 4. How to find the memory size of any array (★☆☆)"
      ]
    },
    {
      "cell_type": "code",
      "metadata": {
        "id": "IMwCtLAe2CV1",
        "colab": {
          "base_uri": "https://localhost:8080/"
        },
        "outputId": "ebfbcec7-c94f-4ac3-e758-2f54a81d2315"
      },
      "source": [
        "Z = np.zeros((10,10))\r\n",
        "print(\"{0} bytes\".format((Z.size * Z.itemsize)))"
      ],
      "execution_count": null,
      "outputs": [
        {
          "output_type": "stream",
          "text": [
            "800 bytes\n"
          ],
          "name": "stdout"
        }
      ]
    },
    {
      "cell_type": "markdown",
      "metadata": {
        "id": "x0psg26d2CV1"
      },
      "source": [
        "#### 5. How to get the documentation of the numpy add function from the command line? (★☆☆)"
      ]
    },
    {
      "cell_type": "code",
      "metadata": {
        "id": "53RBomW-2CV2",
        "colab": {
          "base_uri": "https://localhost:8080/"
        },
        "outputId": "a9f0306a-ff24-48d7-83c2-d1f4c3c3697c"
      },
      "source": [
        ""
      ],
      "execution_count": null,
      "outputs": [
        {
          "output_type": "stream",
          "text": [
            "ERROR:root:File `'`python.py'` not found.\n"
          ],
          "name": "stderr"
        }
      ]
    },
    {
      "cell_type": "markdown",
      "metadata": {
        "id": "GzYaw6XQ2CV2"
      },
      "source": [
        "#### 6. Create a null vector of size 10 but the fifth value which is 1 (★☆☆)"
      ]
    },
    {
      "cell_type": "code",
      "metadata": {
        "id": "W9QMLGz92CV2",
        "colab": {
          "base_uri": "https://localhost:8080/"
        },
        "outputId": "6b6b7b63-2d3f-433c-f18d-b31a72d18c36"
      },
      "source": [
        "Z = np.zeros(10)\r\n",
        "Z[4] = 1\r\n",
        "print(Z)"
      ],
      "execution_count": null,
      "outputs": [
        {
          "output_type": "stream",
          "text": [
            "[0. 0. 0. 0. 1. 0. 0. 0. 0. 0.]\n"
          ],
          "name": "stdout"
        }
      ]
    },
    {
      "cell_type": "markdown",
      "metadata": {
        "id": "DirZ1fBH2CV3"
      },
      "source": [
        "#### 7. Create a vector with values ranging from 10 to 49 (★☆☆)"
      ]
    },
    {
      "cell_type": "code",
      "metadata": {
        "id": "DIYm123c2CV3",
        "colab": {
          "base_uri": "https://localhost:8080/"
        },
        "outputId": "34a2a625-dd84-455f-81a5-9ef8eb9a756e"
      },
      "source": [
        "Z = np.arange(10,50)\r\n",
        "Z"
      ],
      "execution_count": null,
      "outputs": [
        {
          "output_type": "execute_result",
          "data": {
            "text/plain": [
              "array([10, 11, 12, 13, 14, 15, 16, 17, 18, 19, 20, 21, 22, 23, 24, 25, 26,\n",
              "       27, 28, 29, 30, 31, 32, 33, 34, 35, 36, 37, 38, 39, 40, 41, 42, 43,\n",
              "       44, 45, 46, 47, 48, 49])"
            ]
          },
          "metadata": {
            "tags": []
          },
          "execution_count": 21
        }
      ]
    },
    {
      "cell_type": "markdown",
      "metadata": {
        "id": "MVeYKpVb2CV3"
      },
      "source": [
        "#### 8. Reverse a vector (first element becomes last) (★☆☆)"
      ]
    },
    {
      "cell_type": "code",
      "metadata": {
        "id": "V7aKh_a32CV4",
        "colab": {
          "base_uri": "https://localhost:8080/"
        },
        "outputId": "43549396-0c15-43c9-9ac1-257d18e25119"
      },
      "source": [
        "Z = Z[::-1]\r\n",
        "print(Z)"
      ],
      "execution_count": null,
      "outputs": [
        {
          "output_type": "stream",
          "text": [
            "[49 48 47 46 45 44 43 42 41 40 39 38 37 36 35 34 33 32 31 30 29 28 27 26\n",
            " 25 24 23 22 21 20 19 18 17 16 15 14 13 12 11 10]\n"
          ],
          "name": "stdout"
        }
      ]
    },
    {
      "cell_type": "markdown",
      "metadata": {
        "id": "N7U75WlC2CV4"
      },
      "source": [
        "#### 9. Create a 3x3 matrix with values ranging from 0 to 8 (★☆☆)"
      ]
    },
    {
      "cell_type": "code",
      "metadata": {
        "id": "91Adx87r2CV4",
        "colab": {
          "base_uri": "https://localhost:8080/"
        },
        "outputId": "0a67ad7b-1a60-4092-8c7e-c3fb39801990"
      },
      "source": [
        "Z = np.arange(0,9).reshape(3,3)\r\n",
        "Z"
      ],
      "execution_count": null,
      "outputs": [
        {
          "output_type": "execute_result",
          "data": {
            "text/plain": [
              "array([[0, 1, 2],\n",
              "       [3, 4, 5],\n",
              "       [6, 7, 8]])"
            ]
          },
          "metadata": {
            "tags": []
          },
          "execution_count": 24
        }
      ]
    },
    {
      "cell_type": "markdown",
      "metadata": {
        "id": "Cqf0HqH32CV4"
      },
      "source": [
        "#### 10. Find indices of non-zero elements from [1,2,0,0,4,0] (★☆☆)"
      ]
    },
    {
      "cell_type": "code",
      "metadata": {
        "id": "vLCGJ6Nv2CV5",
        "colab": {
          "base_uri": "https://localhost:8080/"
        },
        "outputId": "51b5a8a3-767d-4063-ad35-a4de43293a82"
      },
      "source": [
        "nz = np.nonzero([1,2,0,0,4,0])\r\n",
        "print(nz)"
      ],
      "execution_count": null,
      "outputs": [
        {
          "output_type": "stream",
          "text": [
            "(array([0, 1, 4]),)\n"
          ],
          "name": "stdout"
        }
      ]
    },
    {
      "cell_type": "markdown",
      "metadata": {
        "id": "iwMeIDXl2CV5"
      },
      "source": [
        "#### 11. Create a 3x3 identity matrix (★☆☆)"
      ]
    },
    {
      "cell_type": "code",
      "metadata": {
        "id": "kHj123fa2CV5",
        "colab": {
          "base_uri": "https://localhost:8080/"
        },
        "outputId": "5985e8dd-843a-43cc-cd82-1dae4dc2c47b"
      },
      "source": [
        "Z = np.eye(3)\r\n",
        "Z"
      ],
      "execution_count": null,
      "outputs": [
        {
          "output_type": "execute_result",
          "data": {
            "text/plain": [
              "array([[1., 0., 0.],\n",
              "       [0., 1., 0.],\n",
              "       [0., 0., 1.]])"
            ]
          },
          "metadata": {
            "tags": []
          },
          "execution_count": 3
        }
      ]
    },
    {
      "cell_type": "markdown",
      "metadata": {
        "id": "bwZV6bWY2CV6"
      },
      "source": [
        "#### 12. Create a 3x3x3 array with random values (★☆☆)"
      ]
    },
    {
      "cell_type": "code",
      "metadata": {
        "id": "72AL3gMH2CV6",
        "colab": {
          "base_uri": "https://localhost:8080/"
        },
        "outputId": "7d969db8-29c9-4881-eacb-89c9c54bf8eb"
      },
      "source": [
        "Z = np.random.random((3,3,3))\r\n",
        "Z"
      ],
      "execution_count": null,
      "outputs": [
        {
          "output_type": "execute_result",
          "data": {
            "text/plain": [
              "array([[[0.48662466, 0.31317078, 0.94382756],\n",
              "        [0.7291443 , 0.30409463, 0.48098962],\n",
              "        [0.07567659, 0.06676646, 0.7107273 ]],\n",
              "\n",
              "       [[0.55180694, 0.65999999, 0.69334416],\n",
              "        [0.81155844, 0.12356769, 0.63921932],\n",
              "        [0.19134787, 0.17578791, 0.53734031]],\n",
              "\n",
              "       [[0.8657273 , 0.01842724, 0.5824762 ],\n",
              "        [0.58340275, 0.29794778, 0.54308814],\n",
              "        [0.33801513, 0.94327668, 0.81118677]]])"
            ]
          },
          "metadata": {
            "tags": []
          },
          "execution_count": 6
        }
      ]
    },
    {
      "cell_type": "markdown",
      "metadata": {
        "id": "RIfQ3ljQ2CV6"
      },
      "source": [
        "#### 13. Create a 10x10 array with random values and find the minimum and maximum values (★☆☆)"
      ]
    },
    {
      "cell_type": "code",
      "metadata": {
        "id": "DT8mi4h42CV7",
        "colab": {
          "base_uri": "https://localhost:8080/"
        },
        "outputId": "a8e4b927-5bb9-4afa-adff-5ce50dd5bdc2"
      },
      "source": [
        "Z = np.random.random((10,10))\r\n",
        "min = Z.min()\r\n",
        "max = Z.max()\r\n",
        "print('min: {0} max:{1}'.format(min, max))"
      ],
      "execution_count": null,
      "outputs": [
        {
          "output_type": "stream",
          "text": [
            "min: 0.004793776656461857 max:0.9953985629305614\n"
          ],
          "name": "stdout"
        }
      ]
    },
    {
      "cell_type": "markdown",
      "metadata": {
        "id": "axgLfChq2CV7"
      },
      "source": [
        "#### 14. Create a random vector of size 30 and find the mean value (★☆☆)"
      ]
    },
    {
      "cell_type": "code",
      "metadata": {
        "id": "A0_XRwVs2CV7",
        "colab": {
          "base_uri": "https://localhost:8080/"
        },
        "outputId": "a616b3fa-8b4d-45c3-b6a7-7116e2ee42ef"
      },
      "source": [
        "Z = np.random.random(30)\r\n",
        "mean = Z.mean()\r\n",
        "mean"
      ],
      "execution_count": null,
      "outputs": [
        {
          "output_type": "execute_result",
          "data": {
            "text/plain": [
              "0.46023022482474757"
            ]
          },
          "metadata": {
            "tags": []
          },
          "execution_count": 11
        }
      ]
    },
    {
      "cell_type": "markdown",
      "metadata": {
        "id": "scAHvyIN2CV8"
      },
      "source": [
        "#### 15. Create a 2d array with 1 on the border and 0 inside (★☆☆)"
      ]
    },
    {
      "cell_type": "code",
      "metadata": {
        "id": "HrethGdl2CV8",
        "colab": {
          "base_uri": "https://localhost:8080/"
        },
        "outputId": "237ccd70-bdb6-46ae-b52e-51ede9877095"
      },
      "source": [
        "Z = np.ones((10,10))\r\n",
        "Z[1:-1,1:-1] = 0\r\n",
        "Z"
      ],
      "execution_count": null,
      "outputs": [
        {
          "output_type": "execute_result",
          "data": {
            "text/plain": [
              "array([[1., 1., 1., 1., 1., 1., 1., 1., 1., 1.],\n",
              "       [1., 0., 0., 0., 0., 0., 0., 0., 0., 1.],\n",
              "       [1., 0., 0., 0., 0., 0., 0., 0., 0., 1.],\n",
              "       [1., 0., 0., 0., 0., 0., 0., 0., 0., 1.],\n",
              "       [1., 0., 0., 0., 0., 0., 0., 0., 0., 1.],\n",
              "       [1., 0., 0., 0., 0., 0., 0., 0., 0., 1.],\n",
              "       [1., 0., 0., 0., 0., 0., 0., 0., 0., 1.],\n",
              "       [1., 0., 0., 0., 0., 0., 0., 0., 0., 1.],\n",
              "       [1., 0., 0., 0., 0., 0., 0., 0., 0., 1.],\n",
              "       [1., 1., 1., 1., 1., 1., 1., 1., 1., 1.]])"
            ]
          },
          "metadata": {
            "tags": []
          },
          "execution_count": 14
        }
      ]
    },
    {
      "cell_type": "markdown",
      "metadata": {
        "id": "EJGGu9oJ2CV9"
      },
      "source": [
        "#### 16. How to add a border (filled with 0's) around an existing array? (★☆☆)"
      ]
    },
    {
      "cell_type": "code",
      "metadata": {
        "id": "2RGsYAN12CV9",
        "colab": {
          "base_uri": "https://localhost:8080/"
        },
        "outputId": "63a95824-2656-445a-e787-852fcc2f9644"
      },
      "source": [
        "Z = np.ones((5,5))\r\n",
        "Z = np.pad(Z, pad_width=1, mode='constant', constant_values=0)\r\n",
        "print(Z)"
      ],
      "execution_count": null,
      "outputs": [
        {
          "output_type": "stream",
          "text": [
            "[[0. 0. 0. 0. 0. 0. 0.]\n",
            " [0. 1. 1. 1. 1. 1. 0.]\n",
            " [0. 1. 1. 1. 1. 1. 0.]\n",
            " [0. 1. 1. 1. 1. 1. 0.]\n",
            " [0. 1. 1. 1. 1. 1. 0.]\n",
            " [0. 1. 1. 1. 1. 1. 0.]\n",
            " [0. 0. 0. 0. 0. 0. 0.]]\n"
          ],
          "name": "stdout"
        }
      ]
    },
    {
      "cell_type": "markdown",
      "metadata": {
        "id": "LAHuZ2uh2CV9"
      },
      "source": [
        "#### 17. What is the result of the following expression? (★☆☆)\n",
        "```python\n",
        "0 * np.nan\n",
        "np.nan == np.nan\n",
        "np.inf > np.nan\n",
        "np.nan - np.nan\n",
        "np.nan in set([np.nan])\n",
        "0.3 == 3 * 0.1\n",
        "```"
      ]
    },
    {
      "cell_type": "code",
      "metadata": {
        "id": "JN_UIRm92CV-"
      },
      "source": [
        "nan\r\n",
        "False\r\n",
        "False\r\n",
        "nan\r\n",
        "True\r\n",
        "False"
      ],
      "execution_count": null,
      "outputs": []
    },
    {
      "cell_type": "markdown",
      "metadata": {
        "id": "iHV0AB6l2CV-"
      },
      "source": [
        "#### 18. Create a 5x5 matrix with values 1,2,3,4 just below the diagonal (★☆☆)"
      ]
    },
    {
      "cell_type": "code",
      "metadata": {
        "id": "ye1tK0392CV_",
        "colab": {
          "base_uri": "https://localhost:8080/"
        },
        "outputId": "07e39e26-0baf-44b9-808a-9ce486fc8996"
      },
      "source": [
        "Z = np.diag(1+np.arange(4),k=-1)\r\n",
        "Z"
      ],
      "execution_count": null,
      "outputs": [
        {
          "output_type": "execute_result",
          "data": {
            "text/plain": [
              "array([[0, 0, 0, 0, 0],\n",
              "       [1, 0, 0, 0, 0],\n",
              "       [0, 2, 0, 0, 0],\n",
              "       [0, 0, 3, 0, 0],\n",
              "       [0, 0, 0, 4, 0]])"
            ]
          },
          "metadata": {
            "tags": []
          },
          "execution_count": 28
        }
      ]
    },
    {
      "cell_type": "markdown",
      "metadata": {
        "id": "U_f9m3eP2CV_"
      },
      "source": [
        "#### 19. Create a 8x8 matrix and fill it with a checkerboard pattern (★☆☆)"
      ]
    },
    {
      "cell_type": "code",
      "metadata": {
        "id": "6IvPs7P52CV_",
        "colab": {
          "base_uri": "https://localhost:8080/"
        },
        "outputId": "8b61e80c-fa33-4b85-f51d-9030deacd3c9"
      },
      "source": [
        "Z = np.zeros((8,8),dtype=int)\r\n",
        "Z[1::2,::2] = 1\r\n",
        "Z[::2,1::2] = 1\r\n",
        "Z"
      ],
      "execution_count": null,
      "outputs": [
        {
          "output_type": "execute_result",
          "data": {
            "text/plain": [
              "array([[0, 1, 0, 1, 0, 1, 0, 1],\n",
              "       [1, 0, 1, 0, 1, 0, 1, 0],\n",
              "       [0, 1, 0, 1, 0, 1, 0, 1],\n",
              "       [1, 0, 1, 0, 1, 0, 1, 0],\n",
              "       [0, 1, 0, 1, 0, 1, 0, 1],\n",
              "       [1, 0, 1, 0, 1, 0, 1, 0],\n",
              "       [0, 1, 0, 1, 0, 1, 0, 1],\n",
              "       [1, 0, 1, 0, 1, 0, 1, 0]])"
            ]
          },
          "metadata": {
            "tags": []
          },
          "execution_count": 33
        }
      ]
    },
    {
      "cell_type": "markdown",
      "metadata": {
        "id": "XBGrr83v2CV_"
      },
      "source": [
        "#### 20. Consider a (6,7,8) shape array, what is the index (x,y,z) of the 100th element?"
      ]
    },
    {
      "cell_type": "code",
      "metadata": {
        "id": "XVnSwOvq2CWA",
        "colab": {
          "base_uri": "https://localhost:8080/"
        },
        "outputId": "c1f98ebe-41d3-4c06-8cd6-76d163c9fe8e"
      },
      "source": [
        "print(np.unravel_index(99,(6,7,8)))"
      ],
      "execution_count": null,
      "outputs": [
        {
          "output_type": "stream",
          "text": [
            "(1, 5, 3)\n"
          ],
          "name": "stdout"
        }
      ]
    },
    {
      "cell_type": "markdown",
      "metadata": {
        "id": "3m74dL3a2CWA"
      },
      "source": [
        "#### 21. Create a checkerboard 8x8 matrix using the tile function (★☆☆)"
      ]
    },
    {
      "cell_type": "code",
      "metadata": {
        "id": "F8ol8J922CWA",
        "colab": {
          "base_uri": "https://localhost:8080/"
        },
        "outputId": "40055cc1-b1ab-4661-f9be-96c15a0eb25f"
      },
      "source": [
        "Z = np.tile( np.array([[0,1],[1,0]]), (4,4))\r\n",
        "Z"
      ],
      "execution_count": null,
      "outputs": [
        {
          "output_type": "execute_result",
          "data": {
            "text/plain": [
              "array([[0, 1, 0, 1, 0, 1, 0, 1],\n",
              "       [1, 0, 1, 0, 1, 0, 1, 0],\n",
              "       [0, 1, 0, 1, 0, 1, 0, 1],\n",
              "       [1, 0, 1, 0, 1, 0, 1, 0],\n",
              "       [0, 1, 0, 1, 0, 1, 0, 1],\n",
              "       [1, 0, 1, 0, 1, 0, 1, 0],\n",
              "       [0, 1, 0, 1, 0, 1, 0, 1],\n",
              "       [1, 0, 1, 0, 1, 0, 1, 0]])"
            ]
          },
          "metadata": {
            "tags": []
          },
          "execution_count": 3
        }
      ]
    },
    {
      "cell_type": "markdown",
      "metadata": {
        "id": "93vxp21O2CWB"
      },
      "source": [
        "#### 22. Normalize a 5x5 random matrix (★☆☆)"
      ]
    },
    {
      "cell_type": "code",
      "metadata": {
        "id": "K6nnh31U2CWB",
        "colab": {
          "base_uri": "https://localhost:8080/"
        },
        "outputId": "a37202fd-19e0-4e32-901b-82309b592141"
      },
      "source": [
        "Z = np.random.random((5,5))\r\n",
        "Z -= np.mean(Z)\r\n",
        "Z /= np.std(Z)\r\n",
        "Z"
      ],
      "execution_count": null,
      "outputs": [
        {
          "output_type": "execute_result",
          "data": {
            "text/plain": [
              "array([[ 0.29637563, -0.9050499 , -0.9693106 , -0.42085472,  1.30477624],\n",
              "       [ 0.40221326,  0.99754694, -0.65019841, -1.54699972,  1.16425973],\n",
              "       [-0.06093143,  1.19801832, -1.51392671,  0.9654245 , -1.51970758],\n",
              "       [ 0.86208086, -0.23335652,  1.09578663,  1.04021653,  0.30595382],\n",
              "       [-1.44629855, -0.83188583,  1.50440433, -0.19313924, -0.84539759]])"
            ]
          },
          "metadata": {
            "tags": []
          },
          "execution_count": 4
        }
      ]
    },
    {
      "cell_type": "markdown",
      "metadata": {
        "id": "e8YkOyf92CWB"
      },
      "source": [
        "#### 23. Create a custom dtype that describes a color as four unsigned bytes (RGBA) (★☆☆)"
      ]
    },
    {
      "cell_type": "code",
      "metadata": {
        "id": "nJodqcpq2CWB"
      },
      "source": [
        "color = np.dtype([(\"r\", np.ubyte, 1),\r\n",
        "                  (\"g\", np.ubyte, 1),\r\n",
        "                  (\"b\", np.ubyte, 1),\r\n",
        "                  (\"a\", np.ubyte, 1)])"
      ],
      "execution_count": null,
      "outputs": []
    },
    {
      "cell_type": "markdown",
      "metadata": {
        "id": "MOGTxOSs2CWC"
      },
      "source": [
        "#### 24. Multiply a 5x3 matrix by a 3x2 matrix (real matrix product) (★☆☆)"
      ]
    },
    {
      "cell_type": "code",
      "metadata": {
        "id": "4ISRMFKI2CWC",
        "colab": {
          "base_uri": "https://localhost:8080/"
        },
        "outputId": "17798cd5-f1e2-44f2-a38f-006c5c2f4070"
      },
      "source": [
        "Z = np.dot(np.ones((5,3)), np.ones((3,2)))\r\n",
        "print(Z)\r\n",
        "\r\n",
        "# Alternative solution, in Python 3.5 and above\r\n",
        "Z = np.ones((5,3)) @ np.ones((3,2))\r\n",
        "print(Z)"
      ],
      "execution_count": null,
      "outputs": [
        {
          "output_type": "stream",
          "text": [
            "[[3. 3.]\n",
            " [3. 3.]\n",
            " [3. 3.]\n",
            " [3. 3.]\n",
            " [3. 3.]]\n",
            "[[3. 3.]\n",
            " [3. 3.]\n",
            " [3. 3.]\n",
            " [3. 3.]\n",
            " [3. 3.]]\n"
          ],
          "name": "stdout"
        }
      ]
    },
    {
      "cell_type": "markdown",
      "metadata": {
        "id": "CxlunSgr2CWC"
      },
      "source": [
        "#### 25. Given a 1D array, negate all elements which are between 3 and 8, in place. (★☆☆)"
      ]
    },
    {
      "cell_type": "code",
      "metadata": {
        "id": "xMdCM5Dq2CWD",
        "colab": {
          "base_uri": "https://localhost:8080/"
        },
        "outputId": "1d5018cb-e745-4abd-9e69-21ed07defa50"
      },
      "source": [
        "Z = np.arange(11)\r\n",
        "Z[(3 < Z) & (Z < 8)] *= -1\r\n",
        "print(Z)"
      ],
      "execution_count": null,
      "outputs": [
        {
          "output_type": "stream",
          "text": [
            "[ 0  1  2  3 -4 -5 -6 -7  8  9 10]\n"
          ],
          "name": "stdout"
        }
      ]
    },
    {
      "cell_type": "markdown",
      "metadata": {
        "id": "tOt669vE2CWD"
      },
      "source": [
        "#### 26. What is the output of the following script? (★☆☆)\n",
        "```python\n",
        "# Author: Jake VanderPlas\n",
        "\n",
        "print(sum(range(5),-1))\n",
        "from numpy import *\n",
        "print(sum(range(5),-1))\n",
        "```"
      ]
    },
    {
      "cell_type": "code",
      "metadata": {
        "id": "GDm1wPHC2CWD",
        "colab": {
          "base_uri": "https://localhost:8080/"
        },
        "outputId": "e698828f-8a18-41f6-d3b7-627534685846"
      },
      "source": [
        "print(sum(range(5),-1))\r\n",
        "from numpy import *\r\n",
        "print(sum(range(5),-1))"
      ],
      "execution_count": null,
      "outputs": [
        {
          "output_type": "stream",
          "text": [
            "10\n",
            "10\n"
          ],
          "name": "stdout"
        }
      ]
    },
    {
      "cell_type": "markdown",
      "metadata": {
        "id": "GBfs7oNU2CWH"
      },
      "source": [
        "#### 27. Consider an integer vector Z, which of these expressions are legal? (★☆☆)\n",
        "```python\n",
        "Z**Z\n",
        "2 << Z >> 2\n",
        "Z <- Z\n",
        "1j*Z\n",
        "Z/1/1\n",
        "Z<Z>Z\n",
        "```"
      ]
    },
    {
      "cell_type": "code",
      "metadata": {
        "id": "BWtQaR0b2CWI"
      },
      "source": [
        "2 << Z >> 2\r\n",
        "Z<Z>Z"
      ],
      "execution_count": null,
      "outputs": []
    },
    {
      "cell_type": "markdown",
      "metadata": {
        "id": "D5sbrAJ82CWI"
      },
      "source": [
        "#### 28. What are the result of the following expressions?\n",
        "```python\n",
        "np.array(0) / np.array(0)\n",
        "np.array(0) // np.array(0)\n",
        "np.array([np.nan]).astype(int).astype(float)\n",
        "```"
      ]
    },
    {
      "cell_type": "code",
      "metadata": {
        "id": "hHOIHUcP2CWI"
      },
      "source": [
        "nan\r\n",
        "0\r\n",
        "array([-9.22337204e+18])"
      ],
      "execution_count": null,
      "outputs": []
    },
    {
      "cell_type": "markdown",
      "metadata": {
        "id": "ynP3a6Rv2CWJ"
      },
      "source": [
        "#### 29. How to round away from zero a float array ? (★☆☆)"
      ]
    },
    {
      "cell_type": "code",
      "metadata": {
        "id": "j728x97C2CWJ",
        "colab": {
          "base_uri": "https://localhost:8080/"
        },
        "outputId": "6ce6db6c-0f8d-4226-b914-670678e1a803"
      },
      "source": [
        "Z = np.random.uniform(-10,+10,10)\r\n",
        "print(np.copysign(np.ceil(np.abs(Z)), Z))"
      ],
      "execution_count": null,
      "outputs": [
        {
          "output_type": "stream",
          "text": [
            "[10. 10.  1. -4. -4.  4. -4.  4. -1. -8.]\n"
          ],
          "name": "stdout"
        }
      ]
    },
    {
      "cell_type": "markdown",
      "metadata": {
        "id": "P2iwHT142CWJ"
      },
      "source": [
        "#### 30. How to find common values between two arrays? (★☆☆)"
      ]
    },
    {
      "cell_type": "code",
      "metadata": {
        "id": "213Qqcxz2CWK",
        "colab": {
          "base_uri": "https://localhost:8080/"
        },
        "outputId": "771f429b-e7cf-49e5-b667-fba553471748"
      },
      "source": [
        "Z1 = np.random.randint(0,10,10)\r\n",
        "Z2 = np.random.randint(0,10,10)\r\n",
        "print(np.intersect1d(Z1,Z2))"
      ],
      "execution_count": null,
      "outputs": [
        {
          "output_type": "stream",
          "text": [
            "[0 2 5 6]\n"
          ],
          "name": "stdout"
        }
      ]
    },
    {
      "cell_type": "markdown",
      "metadata": {
        "id": "kCnt4VtH2CWK"
      },
      "source": [
        "#### 31. How to ignore all numpy warnings (not recommended)? (★☆☆)"
      ]
    },
    {
      "cell_type": "code",
      "metadata": {
        "id": "gvFLheAA2CWK"
      },
      "source": [
        "# Suicide mode on\r\n",
        "defaults = np.seterr(all=\"ignore\")\r\n",
        "Z = np.ones(1) / 0\r\n",
        "\r\n",
        "# Back to sanity\r\n",
        "_ = np.seterr(**defaults)\r\n",
        "\r\n",
        "# Equivalently with a context manager\r\n",
        "with np.errstate(all=\"ignore\"):\r\n",
        "    np.arange(3) / 0"
      ],
      "execution_count": null,
      "outputs": []
    },
    {
      "cell_type": "markdown",
      "metadata": {
        "id": "ckP5MbZZ2CWK"
      },
      "source": [
        "#### 32. Is the following expressions true? (★☆☆)\n",
        "```python\n",
        "np.sqrt(-1) == np.emath.sqrt(-1)\n",
        "```"
      ]
    },
    {
      "cell_type": "code",
      "metadata": {
        "id": "3cznNHP02CWL",
        "colab": {
          "base_uri": "https://localhost:8080/"
        },
        "outputId": "1638a296-c476-414e-e1f9-2945c8465c15"
      },
      "source": [
        "np.sqrt(-1) == np.emath.sqrt(-1)"
      ],
      "execution_count": null,
      "outputs": [
        {
          "output_type": "execute_result",
          "data": {
            "text/plain": [
              "False"
            ]
          },
          "metadata": {
            "tags": []
          },
          "execution_count": 4
        }
      ]
    },
    {
      "cell_type": "markdown",
      "metadata": {
        "id": "lpAn2Q562CWL"
      },
      "source": [
        "#### 33. How to get the dates of yesterday, today and tomorrow? (★☆☆)"
      ]
    },
    {
      "cell_type": "code",
      "metadata": {
        "id": "PilVKYhe2CWL",
        "colab": {
          "base_uri": "https://localhost:8080/"
        },
        "outputId": "7f0ba4f5-2ca8-4b02-e0eb-c1e9905f71d8"
      },
      "source": [
        "yesterday = np.datetime64('today') - np.timedelta64(1)\r\n",
        "today     = np.datetime64('today')\r\n",
        "tomorrow  = np.datetime64('today') + np.timedelta64(1)\r\n",
        "\r\n",
        "print(yesterday)\r\n",
        "print(today)\r\n",
        "print(tomorrow)"
      ],
      "execution_count": null,
      "outputs": [
        {
          "output_type": "stream",
          "text": [
            "2020-12-20\n",
            "2020-12-21\n",
            "2020-12-22\n"
          ],
          "name": "stdout"
        }
      ]
    },
    {
      "cell_type": "markdown",
      "metadata": {
        "id": "8bXvKmul2CWM"
      },
      "source": [
        "#### 34. How to get all the dates corresponding to the month of July 2016? (★★☆)"
      ]
    },
    {
      "cell_type": "code",
      "metadata": {
        "id": "HhjoL_ts2CWM",
        "colab": {
          "base_uri": "https://localhost:8080/"
        },
        "outputId": "f05abb17-1908-475d-f2ba-52d405c907bf"
      },
      "source": [
        "Z = np.arange('2016-07', '2016-08', dtype='datetime64[D]')\r\n",
        "print(Z)"
      ],
      "execution_count": null,
      "outputs": [
        {
          "output_type": "stream",
          "text": [
            "['2016-07-01' '2016-07-02' '2016-07-03' '2016-07-04' '2016-07-05'\n",
            " '2016-07-06' '2016-07-07' '2016-07-08' '2016-07-09' '2016-07-10'\n",
            " '2016-07-11' '2016-07-12' '2016-07-13' '2016-07-14' '2016-07-15'\n",
            " '2016-07-16' '2016-07-17' '2016-07-18' '2016-07-19' '2016-07-20'\n",
            " '2016-07-21' '2016-07-22' '2016-07-23' '2016-07-24' '2016-07-25'\n",
            " '2016-07-26' '2016-07-27' '2016-07-28' '2016-07-29' '2016-07-30'\n",
            " '2016-07-31']\n"
          ],
          "name": "stdout"
        }
      ]
    },
    {
      "cell_type": "markdown",
      "metadata": {
        "id": "CPT_7Hsi2CWN"
      },
      "source": [
        "#### 35. How to compute ((A+B)*(-A/2)) in place (without copy)? (★★☆)"
      ]
    },
    {
      "cell_type": "code",
      "metadata": {
        "id": "emeEsgwf2CWN",
        "colab": {
          "base_uri": "https://localhost:8080/"
        },
        "outputId": "44582457-3e76-44ae-b0bc-6d3ff1cd68e2"
      },
      "source": [
        "A = np.ones(3)*1\r\n",
        "B = np.ones(3)*2\r\n",
        "C = np.ones(3)*3\r\n",
        "np.add(A,B,out=B)\r\n",
        "np.divide(A,2,out=A)\r\n",
        "np.negative(A,out=A)\r\n",
        "np.multiply(A,B,out=A)"
      ],
      "execution_count": null,
      "outputs": [
        {
          "output_type": "execute_result",
          "data": {
            "text/plain": [
              "array([-1.5, -1.5, -1.5])"
            ]
          },
          "metadata": {
            "tags": []
          },
          "execution_count": 9
        }
      ]
    },
    {
      "cell_type": "markdown",
      "metadata": {
        "id": "PdN2ugBH2CWO"
      },
      "source": [
        "#### 36. Extract the integer part of a random array of positive numbers using 4 different methods (★★☆)"
      ]
    },
    {
      "cell_type": "code",
      "metadata": {
        "id": "7_cIQIb62CWO",
        "colab": {
          "base_uri": "https://localhost:8080/"
        },
        "outputId": "af7f7dfd-ede3-4ddc-9e7e-5a9c1ff89945"
      },
      "source": [
        "Z = np.random.uniform(0,10,10)\r\n",
        "\r\n",
        "print(Z - Z%1)\r\n",
        "print(Z // 1)\r\n",
        "print(np.floor(Z))\r\n",
        "print(Z.astype(int))\r\n",
        "print(np.trunc(Z))"
      ],
      "execution_count": null,
      "outputs": [
        {
          "output_type": "stream",
          "text": [
            "[9. 3. 5. 7. 9. 6. 6. 3. 8. 9.]\n",
            "[9. 3. 5. 7. 9. 6. 6. 3. 8. 9.]\n",
            "[9. 3. 5. 7. 9. 6. 6. 3. 8. 9.]\n",
            "[9 3 5 7 9 6 6 3 8 9]\n",
            "[9. 3. 5. 7. 9. 6. 6. 3. 8. 9.]\n"
          ],
          "name": "stdout"
        }
      ]
    },
    {
      "cell_type": "markdown",
      "metadata": {
        "id": "S7MLwGPI2CWP"
      },
      "source": [
        "#### 37. Create a 5x5 matrix with row values ranging from 0 to 4 (★★☆)"
      ]
    },
    {
      "cell_type": "code",
      "metadata": {
        "id": "_0DODD9Q2CWP",
        "colab": {
          "base_uri": "https://localhost:8080/"
        },
        "outputId": "40e7ff72-6ef3-48b0-d0e0-5e548e50e932"
      },
      "source": [
        "Z = np.zeros((5,5))\r\n",
        "Z += np.arange(5)\r\n",
        "print(Z)"
      ],
      "execution_count": null,
      "outputs": [
        {
          "output_type": "stream",
          "text": [
            "[[0. 1. 2. 3. 4.]\n",
            " [0. 1. 2. 3. 4.]\n",
            " [0. 1. 2. 3. 4.]\n",
            " [0. 1. 2. 3. 4.]\n",
            " [0. 1. 2. 3. 4.]]\n"
          ],
          "name": "stdout"
        }
      ]
    },
    {
      "cell_type": "markdown",
      "metadata": {
        "id": "JDT3UCkg2CWP"
      },
      "source": [
        "#### 38. Consider a generator function that generates 10 integers and use it to build an array (★☆☆)"
      ]
    },
    {
      "cell_type": "code",
      "metadata": {
        "id": "bzQHATC12CWQ",
        "colab": {
          "base_uri": "https://localhost:8080/"
        },
        "outputId": "a5b24f5d-8430-4cdf-d3bc-89d7f4e38572"
      },
      "source": [
        "def generate():\r\n",
        "    for x in range(10):\r\n",
        "        yield x\r\n",
        "Z = np.fromiter(generate(),dtype=float,count=-1)\r\n",
        "print(Z)"
      ],
      "execution_count": null,
      "outputs": [
        {
          "output_type": "stream",
          "text": [
            "[0. 1. 2. 3. 4. 5. 6. 7. 8. 9.]\n"
          ],
          "name": "stdout"
        }
      ]
    },
    {
      "cell_type": "markdown",
      "metadata": {
        "id": "sx_DPinp2CWQ"
      },
      "source": [
        "#### 39. Create a vector of size 10 with values ranging from 0 to 1, both excluded (★★☆)"
      ]
    },
    {
      "cell_type": "code",
      "metadata": {
        "id": "5Upg-sgm2CWR",
        "colab": {
          "base_uri": "https://localhost:8080/"
        },
        "outputId": "1c710567-20b6-4e9b-d62d-5b61b73ed28d"
      },
      "source": [
        "Z = np.linspace(0,1,11,endpoint=False)[1:]\r\n",
        "print(Z)"
      ],
      "execution_count": null,
      "outputs": [
        {
          "output_type": "stream",
          "text": [
            "[0.09090909 0.18181818 0.27272727 0.36363636 0.45454545 0.54545455\n",
            " 0.63636364 0.72727273 0.81818182 0.90909091]\n"
          ],
          "name": "stdout"
        }
      ]
    },
    {
      "cell_type": "markdown",
      "metadata": {
        "id": "ITaYMeic2CWR"
      },
      "source": [
        "#### 40. Create a random vector of size 10 and sort it (★★☆)"
      ]
    },
    {
      "cell_type": "code",
      "metadata": {
        "id": "B7_SyZSU2CWR",
        "colab": {
          "base_uri": "https://localhost:8080/"
        },
        "outputId": "b78c71b7-4c15-4052-d836-cd194eb354dd"
      },
      "source": [
        "Z = np.random.random(10)\r\n",
        "Z.sort()\r\n",
        "Z"
      ],
      "execution_count": null,
      "outputs": [
        {
          "output_type": "execute_result",
          "data": {
            "text/plain": [
              "array([0.01298379, 0.0150937 , 0.44416119, 0.52718992, 0.60978769,\n",
              "       0.64703318, 0.77726279, 0.91580762, 0.94616832, 0.95908141])"
            ]
          },
          "metadata": {
            "tags": []
          },
          "execution_count": 16
        }
      ]
    },
    {
      "cell_type": "markdown",
      "metadata": {
        "id": "KUtbWJpP2CWS"
      },
      "source": [
        "#### 41. How to sum a small array faster than np.sum? (★★☆)"
      ]
    },
    {
      "cell_type": "code",
      "metadata": {
        "id": "WV6sox6W2CWS",
        "colab": {
          "base_uri": "https://localhost:8080/"
        },
        "outputId": "448571a2-901d-49e2-e800-74fe60ace106"
      },
      "source": [
        "Z = np.arange(10)\r\n",
        "np.add.reduce(Z)"
      ],
      "execution_count": null,
      "outputs": [
        {
          "output_type": "execute_result",
          "data": {
            "text/plain": [
              "45"
            ]
          },
          "metadata": {
            "tags": []
          },
          "execution_count": 3
        }
      ]
    },
    {
      "cell_type": "markdown",
      "metadata": {
        "id": "1203UIb02CWS"
      },
      "source": [
        "#### 42. Consider two random array A and B, check if they are equal (★★☆)"
      ]
    },
    {
      "cell_type": "code",
      "metadata": {
        "id": "USjjas2f2CWT",
        "colab": {
          "base_uri": "https://localhost:8080/"
        },
        "outputId": "deff9cdb-1dd9-4c08-b5b9-5a15adea062d"
      },
      "source": [
        "A = np.random.randint(0,2,5)\r\n",
        "B = np.random.randint(0,2,5)\r\n",
        "\r\n",
        "equal = np.allclose(A,B)\r\n",
        "print(equal)"
      ],
      "execution_count": null,
      "outputs": [
        {
          "output_type": "stream",
          "text": [
            "False\n"
          ],
          "name": "stdout"
        }
      ]
    },
    {
      "cell_type": "markdown",
      "metadata": {
        "id": "I7L61fTG2CWT"
      },
      "source": [
        "#### 43. Make an array immutable (read-only) (★★☆)"
      ]
    },
    {
      "cell_type": "code",
      "metadata": {
        "id": "AjibRMN72CWT",
        "colab": {
          "base_uri": "https://localhost:8080/",
          "height": 208
        },
        "outputId": "e7a7d2c3-86d9-4dc9-adc3-b5bbed16decf"
      },
      "source": [
        "Z = np.zeros(10)\r\n",
        "Z.flags.writeable = False\r\n",
        "Z[0] = 1"
      ],
      "execution_count": null,
      "outputs": [
        {
          "output_type": "error",
          "ename": "ValueError",
          "evalue": "ignored",
          "traceback": [
            "\u001b[0;31m---------------------------------------------------------------------------\u001b[0m",
            "\u001b[0;31mValueError\u001b[0m                                Traceback (most recent call last)",
            "\u001b[0;32m<ipython-input-6-dcc5e7f145b5>\u001b[0m in \u001b[0;36m<module>\u001b[0;34m()\u001b[0m\n\u001b[1;32m      1\u001b[0m \u001b[0mZ\u001b[0m \u001b[0;34m=\u001b[0m \u001b[0mnp\u001b[0m\u001b[0;34m.\u001b[0m\u001b[0mzeros\u001b[0m\u001b[0;34m(\u001b[0m\u001b[0;36m10\u001b[0m\u001b[0;34m)\u001b[0m\u001b[0;34m\u001b[0m\u001b[0;34m\u001b[0m\u001b[0m\n\u001b[1;32m      2\u001b[0m \u001b[0mZ\u001b[0m\u001b[0;34m.\u001b[0m\u001b[0mflags\u001b[0m\u001b[0;34m.\u001b[0m\u001b[0mwriteable\u001b[0m \u001b[0;34m=\u001b[0m \u001b[0;32mFalse\u001b[0m\u001b[0;34m\u001b[0m\u001b[0;34m\u001b[0m\u001b[0m\n\u001b[0;32m----> 3\u001b[0;31m \u001b[0mZ\u001b[0m\u001b[0;34m[\u001b[0m\u001b[0;36m0\u001b[0m\u001b[0;34m]\u001b[0m \u001b[0;34m=\u001b[0m \u001b[0;36m1\u001b[0m\u001b[0;34m\u001b[0m\u001b[0;34m\u001b[0m\u001b[0m\n\u001b[0m",
            "\u001b[0;31mValueError\u001b[0m: assignment destination is read-only"
          ]
        }
      ]
    },
    {
      "cell_type": "markdown",
      "metadata": {
        "id": "VyRofDu02CWU"
      },
      "source": [
        "#### 44. Consider a random 10x2 matrix representing cartesian coordinates, convert them to polar coordinates (★★☆)"
      ]
    },
    {
      "cell_type": "code",
      "metadata": {
        "id": "s57AMNJv2CWU",
        "colab": {
          "base_uri": "https://localhost:8080/"
        },
        "outputId": "70957b0a-6fec-477a-91ef-bb98a7896077"
      },
      "source": [
        "Z = np.random.random((10, 2))\r\n",
        "X,Y = Z[:,0], Z[:,1]\r\n",
        "R = np.sqrt(X**2+Y**2)\r\n",
        "T = np.arctan2(Y,X)\r\n",
        "print(R)\r\n",
        "print(T)"
      ],
      "execution_count": null,
      "outputs": [
        {
          "output_type": "stream",
          "text": [
            "[0.73401175 0.60379258 1.05813696 0.8422112  0.47040767 0.73923253\n",
            " 0.85156674 0.75910434 0.1570808  1.2952904 ]\n",
            "[0.45818611 1.23717485 0.63254253 1.14594881 1.45459831 1.20641929\n",
            " 0.94247042 0.25771964 0.22895341 0.84578189]\n"
          ],
          "name": "stdout"
        }
      ]
    },
    {
      "cell_type": "markdown",
      "metadata": {
        "id": "gBW6MXDk2CWU"
      },
      "source": [
        "#### 45. Create random vector of size 10 and replace the maximum value by 0 (★★☆)"
      ]
    },
    {
      "cell_type": "code",
      "metadata": {
        "id": "fJjoEDFD2CWV",
        "colab": {
          "base_uri": "https://localhost:8080/"
        },
        "outputId": "bb2650f1-2af8-46f4-a974-99b5b221877c"
      },
      "source": [
        "Z = np.random.random(10)\r\n",
        "Z[Z.argmax()] = 0\r\n",
        "print(Z)"
      ],
      "execution_count": null,
      "outputs": [
        {
          "output_type": "stream",
          "text": [
            "[0.43975339 0.15325847 0.77257282 0.         0.31490444 0.78427932\n",
            " 0.09392228 0.17102771 0.11904749 0.61296171]\n"
          ],
          "name": "stdout"
        }
      ]
    },
    {
      "cell_type": "markdown",
      "metadata": {
        "id": "wcGhY5sE2CWV"
      },
      "source": [
        "#### 46. Create a structured array with `x` and `y` coordinates covering the [0,1]x[0,1] area (★★☆)"
      ]
    },
    {
      "cell_type": "code",
      "metadata": {
        "id": "bgttbE8L2CWV",
        "colab": {
          "base_uri": "https://localhost:8080/"
        },
        "outputId": "77215e26-728a-42f5-9e44-4d58dd28a018"
      },
      "source": [
        "Z = np.zeros((5,5), [('x',float),('y',float)])\r\n",
        "Z['x'], Z['y'] = np.meshgrid(np.linspace(0,1,5),\r\n",
        "                             np.linspace(0,1,5))\r\n",
        "print(Z)"
      ],
      "execution_count": null,
      "outputs": [
        {
          "output_type": "stream",
          "text": [
            "[[(0.  , 0.  ) (0.25, 0.  ) (0.5 , 0.  ) (0.75, 0.  ) (1.  , 0.  )]\n",
            " [(0.  , 0.25) (0.25, 0.25) (0.5 , 0.25) (0.75, 0.25) (1.  , 0.25)]\n",
            " [(0.  , 0.5 ) (0.25, 0.5 ) (0.5 , 0.5 ) (0.75, 0.5 ) (1.  , 0.5 )]\n",
            " [(0.  , 0.75) (0.25, 0.75) (0.5 , 0.75) (0.75, 0.75) (1.  , 0.75)]\n",
            " [(0.  , 1.  ) (0.25, 1.  ) (0.5 , 1.  ) (0.75, 1.  ) (1.  , 1.  )]]\n"
          ],
          "name": "stdout"
        }
      ]
    },
    {
      "cell_type": "markdown",
      "metadata": {
        "id": "KbIPOPtu2CWV"
      },
      "source": [
        "#### 47. Given two arrays, X and Y, construct the Cauchy matrix C (Cij =1/(xi - yj))"
      ]
    },
    {
      "cell_type": "code",
      "metadata": {
        "id": "yR8nD05C2CWW",
        "colab": {
          "base_uri": "https://localhost:8080/"
        },
        "outputId": "c46a33b9-c0f8-4bc9-ad51-87f44325640a"
      },
      "source": [
        "X = np.arange(8)\r\n",
        "Y = X + 0.5\r\n",
        "C = 1.0 / np.subtract.outer(X, Y)\r\n",
        "print(np.linalg.det(C))"
      ],
      "execution_count": null,
      "outputs": [
        {
          "output_type": "stream",
          "text": [
            "3638.163637117973\n"
          ],
          "name": "stdout"
        }
      ]
    },
    {
      "cell_type": "markdown",
      "metadata": {
        "id": "_eprrsLx2CWW"
      },
      "source": [
        "#### 48. Print the minimum and maximum representable value for each numpy scalar type (★★☆)"
      ]
    },
    {
      "cell_type": "code",
      "metadata": {
        "id": "DKxlt5ZO2CWW",
        "colab": {
          "base_uri": "https://localhost:8080/"
        },
        "outputId": "14e2caf5-dd9e-4eef-a223-a32568de4398"
      },
      "source": [
        "for dtype in [np.int8, np.int32, np.int64]:\r\n",
        "   print(np.iinfo(dtype).min)\r\n",
        "   print(np.iinfo(dtype).max)\r\n",
        "for dtype in [np.float32, np.float64]:\r\n",
        "   print(np.finfo(dtype).min)\r\n",
        "   print(np.finfo(dtype).max)\r\n",
        "   print(np.finfo(dtype).eps)"
      ],
      "execution_count": null,
      "outputs": [
        {
          "output_type": "stream",
          "text": [
            "-128\n",
            "127\n",
            "-2147483648\n",
            "2147483647\n",
            "-9223372036854775808\n",
            "9223372036854775807\n",
            "-3.4028235e+38\n",
            "3.4028235e+38\n",
            "1.1920929e-07\n",
            "-1.7976931348623157e+308\n",
            "1.7976931348623157e+308\n",
            "2.220446049250313e-16\n"
          ],
          "name": "stdout"
        }
      ]
    },
    {
      "cell_type": "markdown",
      "metadata": {
        "id": "FlqTnhTk2CWX"
      },
      "source": [
        "#### 49. How to print all the values of an array? (★★☆)"
      ]
    },
    {
      "cell_type": "code",
      "metadata": {
        "id": "p_ZN_ZnB2CWX",
        "colab": {
          "base_uri": "https://localhost:8080/"
        },
        "outputId": "ece2f779-0796-400b-9e53-03b0c17738e1"
      },
      "source": [
        "np.set_printoptions(threshold=float(\"inf\"))\r\n",
        "Z = np.zeros((16,16))\r\n",
        "print(Z)"
      ],
      "execution_count": null,
      "outputs": [
        {
          "output_type": "stream",
          "text": [
            "[[0. 0. 0. 0. 0. 0. 0. 0. 0. 0. 0. 0. 0. 0. 0. 0.]\n",
            " [0. 0. 0. 0. 0. 0. 0. 0. 0. 0. 0. 0. 0. 0. 0. 0.]\n",
            " [0. 0. 0. 0. 0. 0. 0. 0. 0. 0. 0. 0. 0. 0. 0. 0.]\n",
            " [0. 0. 0. 0. 0. 0. 0. 0. 0. 0. 0. 0. 0. 0. 0. 0.]\n",
            " [0. 0. 0. 0. 0. 0. 0. 0. 0. 0. 0. 0. 0. 0. 0. 0.]\n",
            " [0. 0. 0. 0. 0. 0. 0. 0. 0. 0. 0. 0. 0. 0. 0. 0.]\n",
            " [0. 0. 0. 0. 0. 0. 0. 0. 0. 0. 0. 0. 0. 0. 0. 0.]\n",
            " [0. 0. 0. 0. 0. 0. 0. 0. 0. 0. 0. 0. 0. 0. 0. 0.]\n",
            " [0. 0. 0. 0. 0. 0. 0. 0. 0. 0. 0. 0. 0. 0. 0. 0.]\n",
            " [0. 0. 0. 0. 0. 0. 0. 0. 0. 0. 0. 0. 0. 0. 0. 0.]\n",
            " [0. 0. 0. 0. 0. 0. 0. 0. 0. 0. 0. 0. 0. 0. 0. 0.]\n",
            " [0. 0. 0. 0. 0. 0. 0. 0. 0. 0. 0. 0. 0. 0. 0. 0.]\n",
            " [0. 0. 0. 0. 0. 0. 0. 0. 0. 0. 0. 0. 0. 0. 0. 0.]\n",
            " [0. 0. 0. 0. 0. 0. 0. 0. 0. 0. 0. 0. 0. 0. 0. 0.]\n",
            " [0. 0. 0. 0. 0. 0. 0. 0. 0. 0. 0. 0. 0. 0. 0. 0.]\n",
            " [0. 0. 0. 0. 0. 0. 0. 0. 0. 0. 0. 0. 0. 0. 0. 0.]]\n"
          ],
          "name": "stdout"
        }
      ]
    },
    {
      "cell_type": "markdown",
      "metadata": {
        "id": "CDGcqiP82CWX"
      },
      "source": [
        "#### 50. How to find the closest value (to a given scalar) in a vector? (★★☆)"
      ]
    },
    {
      "cell_type": "code",
      "metadata": {
        "id": "rvuZ-dVw2CWX",
        "colab": {
          "base_uri": "https://localhost:8080/"
        },
        "outputId": "f6a66ea7-45aa-448a-bc53-32423a471490"
      },
      "source": [
        "Z = np.arange(100)\r\n",
        "v = np.random.uniform(0,100)\r\n",
        "index = (np.abs(Z-v)).argmin()\r\n",
        "print(Z[index])"
      ],
      "execution_count": null,
      "outputs": [
        {
          "output_type": "stream",
          "text": [
            "18\n"
          ],
          "name": "stdout"
        }
      ]
    },
    {
      "cell_type": "markdown",
      "metadata": {
        "id": "2wBikml_2CWY"
      },
      "source": [
        "#### 51. Create a structured array representing a position (x,y) and a color (r,g,b) (★★☆)"
      ]
    },
    {
      "cell_type": "code",
      "metadata": {
        "id": "n9Ulifh42CWY",
        "colab": {
          "base_uri": "https://localhost:8080/"
        },
        "outputId": "a249a70e-a4db-4be9-8517-6e931aea8951"
      },
      "source": [
        "Z = np.zeros(10, [ ('position', [ ('x', float, 1),\r\n",
        "                                  ('y', float, 1)]),\r\n",
        "                   ('color',    [ ('r', float, 1),\r\n",
        "                                  ('g', float, 1),\r\n",
        "                                  ('b', float, 1)])])\r\n",
        "print(Z)"
      ],
      "execution_count": 2,
      "outputs": [
        {
          "output_type": "stream",
          "text": [
            "[((0., 0.), (0., 0., 0.)) ((0., 0.), (0., 0., 0.))\n",
            " ((0., 0.), (0., 0., 0.)) ((0., 0.), (0., 0., 0.))\n",
            " ((0., 0.), (0., 0., 0.)) ((0., 0.), (0., 0., 0.))\n",
            " ((0., 0.), (0., 0., 0.)) ((0., 0.), (0., 0., 0.))\n",
            " ((0., 0.), (0., 0., 0.)) ((0., 0.), (0., 0., 0.))]\n"
          ],
          "name": "stdout"
        },
        {
          "output_type": "stream",
          "text": [
            "/usr/local/lib/python3.6/dist-packages/ipykernel_launcher.py:5: FutureWarning: Passing (type, 1) or '1type' as a synonym of type is deprecated; in a future version of numpy, it will be understood as (type, (1,)) / '(1,)type'.\n",
            "  \"\"\"\n"
          ],
          "name": "stderr"
        }
      ]
    },
    {
      "cell_type": "markdown",
      "metadata": {
        "id": "DB9mPiOq2CWY"
      },
      "source": [
        "#### 52. Consider a random vector with shape (100,2) representing coordinates, find point by point distances (★★☆)"
      ]
    },
    {
      "cell_type": "code",
      "metadata": {
        "id": "7nYY6wL82CWZ",
        "colab": {
          "base_uri": "https://localhost:8080/"
        },
        "outputId": "562c616e-3165-4caa-e1b6-26a1d40697b2"
      },
      "source": [
        "# Much faster with scipy\r\n",
        "import scipy\r\n",
        "# Thanks Gavin Heverly-Coulson (#issue 1)\r\n",
        "import scipy.spatial\r\n",
        "\r\n",
        "Z = np.random.random((10,2))\r\n",
        "D = scipy.spatial.distance.cdist(Z,Z)\r\n",
        "print(D)"
      ],
      "execution_count": 14,
      "outputs": [
        {
          "output_type": "stream",
          "text": [
            "[[0.         0.56915435 0.9573244  0.85325033 0.55158445 0.49188091\n",
            "  0.68839088 0.83611912 0.81443839 0.80924189]\n",
            " [0.56915435 0.         0.69591861 0.3524067  0.01765252 0.14282245\n",
            "  0.11931967 0.51007114 0.25282103 0.48586519]\n",
            " [0.9573244  0.69591861 0.         0.95382845 0.69687913 0.8214426\n",
            "  0.68492058 1.18937622 0.63344259 0.21105583]\n",
            " [0.85325033 0.3524067  0.95382845 0.         0.36604921 0.36443676\n",
            "  0.28682518 0.28681633 0.32568057 0.74895361]\n",
            " [0.55158445 0.01765252 0.69687913 0.36604921 0.         0.13387033\n",
            "  0.13682942 0.51547407 0.26923734 0.48754288]\n",
            " [0.49188091 0.14282245 0.8214426  0.36443676 0.13387033 0.\n",
            "  0.23910057 0.43337031 0.37959849 0.6145423 ]\n",
            " [0.68839088 0.11931967 0.68492058 0.28682518 0.13682942 0.23910057\n",
            "  0.         0.50519443 0.14049811 0.47512221]\n",
            " [0.83611912 0.51007114 1.18937622 0.28681633 0.51547407 0.43337031\n",
            "  0.50519443 0.         0.59027006 0.9787917 ]\n",
            " [0.81443839 0.25282103 0.63344259 0.32568057 0.26923734 0.37959849\n",
            "  0.14049811 0.59027006 0.         0.43537502]\n",
            " [0.80924189 0.48586519 0.21105583 0.74895361 0.48754288 0.6145423\n",
            "  0.47512221 0.9787917  0.43537502 0.        ]]\n"
          ],
          "name": "stdout"
        }
      ]
    },
    {
      "cell_type": "markdown",
      "metadata": {
        "id": "4h0fxG-m2CWZ"
      },
      "source": [
        "#### 53. How to convert a float (32 bits) array into an integer (32 bits) in place?"
      ]
    },
    {
      "cell_type": "code",
      "metadata": {
        "id": "j4GCUO1Y2CWZ",
        "colab": {
          "base_uri": "https://localhost:8080/"
        },
        "outputId": "77e79279-c592-4ede-d9be-6f444434bc74"
      },
      "source": [
        "Z = (np.random.rand(10)*100).astype(np.float32)\r\n",
        "Y = Z.view(np.int32)\r\n",
        "Y[:] = Z\r\n",
        "print(Y)"
      ],
      "execution_count": 4,
      "outputs": [
        {
          "output_type": "stream",
          "text": [
            "[30 11 67 58  4 61 99 13 42 28]\n"
          ],
          "name": "stdout"
        }
      ]
    },
    {
      "cell_type": "markdown",
      "metadata": {
        "id": "NNRomUl-2CWZ"
      },
      "source": [
        "#### 54. How to read the following file? (★★☆)\n",
        "```\n",
        "1, 2, 3, 4, 5\n",
        "6,  ,  , 7, 8\n",
        " ,  , 9,10,11\n",
        "```"
      ]
    },
    {
      "cell_type": "code",
      "metadata": {
        "id": "B3MVmaes2CWa",
        "colab": {
          "base_uri": "https://localhost:8080/"
        },
        "outputId": "3d1548f0-99f9-4906-c676-3752363636ac"
      },
      "source": [
        "from io import StringIO\r\n",
        "\r\n",
        "# Fake file\r\n",
        "s = StringIO('''1, 2, 3, 4, 5\r\n",
        "\r\n",
        "                6,  ,  , 7, 8\r\n",
        "\r\n",
        "                 ,  , 9,10,11\r\n",
        "''')\r\n",
        "Z = np.genfromtxt(s, delimiter=\",\", dtype=np.int)\r\n",
        "print(Z)"
      ],
      "execution_count": 5,
      "outputs": [
        {
          "output_type": "stream",
          "text": [
            "[[ 1  2  3  4  5]\n",
            " [ 6 -1 -1  7  8]\n",
            " [-1 -1  9 10 11]]\n"
          ],
          "name": "stdout"
        }
      ]
    },
    {
      "cell_type": "markdown",
      "metadata": {
        "id": "QBW6uMZo2CWa"
      },
      "source": [
        "#### 55. What is the equivalent of enumerate for numpy arrays? (★★☆)"
      ]
    },
    {
      "cell_type": "code",
      "metadata": {
        "id": "nlPjRWmq2CWa",
        "colab": {
          "base_uri": "https://localhost:8080/"
        },
        "outputId": "94bcfdb1-67c5-4bef-f334-bc7d59bda405"
      },
      "source": [
        "Z = np.arange(9).reshape(3,3)\r\n",
        "for index in np.ndindex(Z.shape):\r\n",
        "    print(index, Z[index])"
      ],
      "execution_count": 15,
      "outputs": [
        {
          "output_type": "stream",
          "text": [
            "(0, 0) 0\n",
            "(0, 1) 1\n",
            "(0, 2) 2\n",
            "(1, 0) 3\n",
            "(1, 1) 4\n",
            "(1, 2) 5\n",
            "(2, 0) 6\n",
            "(2, 1) 7\n",
            "(2, 2) 8\n"
          ],
          "name": "stdout"
        }
      ]
    },
    {
      "cell_type": "markdown",
      "metadata": {
        "id": "qBGfAyNx2CWb"
      },
      "source": [
        "#### 56. Generate a generic 2D Gaussian-like array (★★☆)"
      ]
    },
    {
      "cell_type": "code",
      "metadata": {
        "id": "A_QsGvFw2CWb",
        "colab": {
          "base_uri": "https://localhost:8080/"
        },
        "outputId": "3faec0e4-78b9-441e-f6b0-af5a581f2c3e"
      },
      "source": [
        "X, Y = np.meshgrid(np.linspace(-1,1,10), np.linspace(-1,1,10))\r\n",
        "D = np.sqrt(X*X+Y*Y)\r\n",
        "sigma, mu = 1.0, 0.0\r\n",
        "G = np.exp(-( (D-mu)**2 / ( 2.0 * sigma**2 ) ) )\r\n",
        "print(G)"
      ],
      "execution_count": 7,
      "outputs": [
        {
          "output_type": "stream",
          "text": [
            "[[0.36787944 0.44822088 0.51979489 0.57375342 0.60279818 0.60279818\n",
            "  0.57375342 0.51979489 0.44822088 0.36787944]\n",
            " [0.44822088 0.54610814 0.63331324 0.69905581 0.73444367 0.73444367\n",
            "  0.69905581 0.63331324 0.54610814 0.44822088]\n",
            " [0.51979489 0.63331324 0.73444367 0.81068432 0.85172308 0.85172308\n",
            "  0.81068432 0.73444367 0.63331324 0.51979489]\n",
            " [0.57375342 0.69905581 0.81068432 0.89483932 0.9401382  0.9401382\n",
            "  0.89483932 0.81068432 0.69905581 0.57375342]\n",
            " [0.60279818 0.73444367 0.85172308 0.9401382  0.98773022 0.98773022\n",
            "  0.9401382  0.85172308 0.73444367 0.60279818]\n",
            " [0.60279818 0.73444367 0.85172308 0.9401382  0.98773022 0.98773022\n",
            "  0.9401382  0.85172308 0.73444367 0.60279818]\n",
            " [0.57375342 0.69905581 0.81068432 0.89483932 0.9401382  0.9401382\n",
            "  0.89483932 0.81068432 0.69905581 0.57375342]\n",
            " [0.51979489 0.63331324 0.73444367 0.81068432 0.85172308 0.85172308\n",
            "  0.81068432 0.73444367 0.63331324 0.51979489]\n",
            " [0.44822088 0.54610814 0.63331324 0.69905581 0.73444367 0.73444367\n",
            "  0.69905581 0.63331324 0.54610814 0.44822088]\n",
            " [0.36787944 0.44822088 0.51979489 0.57375342 0.60279818 0.60279818\n",
            "  0.57375342 0.51979489 0.44822088 0.36787944]]\n"
          ],
          "name": "stdout"
        }
      ]
    },
    {
      "cell_type": "markdown",
      "metadata": {
        "id": "L8RXfJBl2CWb"
      },
      "source": [
        "#### 57. How to randomly place p elements in a 2D array? (★★☆)"
      ]
    },
    {
      "cell_type": "code",
      "metadata": {
        "id": "0HO1UsSB2CWb",
        "colab": {
          "base_uri": "https://localhost:8080/"
        },
        "outputId": "b8d49417-6689-4723-c7ba-765b9d30f354"
      },
      "source": [
        "n = 10\r\n",
        "p = 3\r\n",
        "Z = np.zeros((n,n))\r\n",
        "np.put(Z, np.random.choice(range(n*n), p, replace=False),1)\r\n",
        "print(Z)"
      ],
      "execution_count": 8,
      "outputs": [
        {
          "output_type": "stream",
          "text": [
            "[[0. 0. 0. 0. 0. 0. 0. 0. 0. 1.]\n",
            " [0. 0. 0. 0. 0. 0. 0. 1. 0. 0.]\n",
            " [0. 0. 0. 0. 0. 0. 0. 0. 0. 0.]\n",
            " [0. 0. 0. 0. 0. 0. 0. 0. 0. 0.]\n",
            " [0. 0. 0. 0. 0. 0. 0. 0. 0. 0.]\n",
            " [0. 0. 0. 0. 0. 0. 0. 0. 0. 0.]\n",
            " [0. 0. 0. 0. 0. 0. 1. 0. 0. 0.]\n",
            " [0. 0. 0. 0. 0. 0. 0. 0. 0. 0.]\n",
            " [0. 0. 0. 0. 0. 0. 0. 0. 0. 0.]\n",
            " [0. 0. 0. 0. 0. 0. 0. 0. 0. 0.]]\n"
          ],
          "name": "stdout"
        }
      ]
    },
    {
      "cell_type": "markdown",
      "metadata": {
        "id": "bcGzk69M2CWc"
      },
      "source": [
        "#### 58. Subtract the mean of each row of a matrix (★★☆)"
      ]
    },
    {
      "cell_type": "code",
      "metadata": {
        "id": "bVn_VDby2CWc",
        "colab": {
          "base_uri": "https://localhost:8080/"
        },
        "outputId": "4eb59e03-70fc-4cd1-ed1e-1a726dfc3fd5"
      },
      "source": [
        "X = np.random.rand(5, 10)\r\n",
        "\r\n",
        "Y = X - X.mean(axis=1, keepdims=True)\r\n",
        "\r\n",
        "print(Y)"
      ],
      "execution_count": 11,
      "outputs": [
        {
          "output_type": "stream",
          "text": [
            "[[-0.18923286 -0.35222751  0.18301902  0.14433702  0.11632385 -0.19874165\n",
            "   0.19673598  0.34000973 -0.3967474   0.15652381]\n",
            " [-0.09402761  0.42852588 -0.06016941  0.40384068  0.4836829  -0.16813773\n",
            "  -0.11930125 -0.47682149 -0.05878153 -0.33881046]\n",
            " [ 0.14165809 -0.15425518 -0.31650697  0.04756617  0.27503733 -0.3082536\n",
            "   0.34911335 -0.07380495 -0.12609409  0.16553984]\n",
            " [ 0.01040834  0.03215226 -0.14122639  0.14208271  0.01179428 -0.17106575\n",
            "   0.23274221 -0.08231711  0.04230582 -0.07687638]\n",
            " [ 0.17005635  0.14088271  0.35261202 -0.13601095 -0.5510322  -0.35398144\n",
            "   0.32941535  0.21727917 -0.03020911 -0.13901189]]\n"
          ],
          "name": "stdout"
        }
      ]
    },
    {
      "cell_type": "markdown",
      "metadata": {
        "id": "xRP_6le52CWc"
      },
      "source": [
        "#### 59. How to sort an array by the nth column? (★★☆)"
      ]
    },
    {
      "cell_type": "code",
      "metadata": {
        "id": "e3zccncl2CWd",
        "colab": {
          "base_uri": "https://localhost:8080/"
        },
        "outputId": "cc380c56-a0ca-4fed-85b4-bca9090e3d1a"
      },
      "source": [
        "Z = np.random.randint(0,10,(3,3))\r\n",
        "print(Z)\r\n",
        "print(Z[Z[:,1].argsort()])"
      ],
      "execution_count": 12,
      "outputs": [
        {
          "output_type": "stream",
          "text": [
            "[[6 0 8]\n",
            " [9 7 2]\n",
            " [3 1 7]]\n",
            "[[6 0 8]\n",
            " [3 1 7]\n",
            " [9 7 2]]\n"
          ],
          "name": "stdout"
        }
      ]
    },
    {
      "cell_type": "markdown",
      "metadata": {
        "id": "zD5WPgom2CWf"
      },
      "source": [
        "#### 60. How to tell if a given 2D array has null columns? (★★☆)"
      ]
    },
    {
      "cell_type": "code",
      "metadata": {
        "id": "2meuGqLf2CWf",
        "colab": {
          "base_uri": "https://localhost:8080/"
        },
        "outputId": "ee9eaf53-6923-4228-9143-f81467eb1c29"
      },
      "source": [
        "Z = np.random.randint(0,3,(3,10))\r\n",
        "print((~Z.any(axis=0)).any())"
      ],
      "execution_count": 13,
      "outputs": [
        {
          "output_type": "stream",
          "text": [
            "True\n"
          ],
          "name": "stdout"
        }
      ]
    },
    {
      "cell_type": "markdown",
      "metadata": {
        "id": "I_0Z5Kr92CWg"
      },
      "source": [
        "#### 61. Find the nearest value from a given value in an array (★★☆)"
      ]
    },
    {
      "cell_type": "code",
      "metadata": {
        "id": "6NHRqkGb2CWg"
      },
      "source": [
        ""
      ],
      "execution_count": null,
      "outputs": []
    },
    {
      "cell_type": "markdown",
      "metadata": {
        "id": "uzVGsEMR2CWh"
      },
      "source": [
        "#### 62. Considering two arrays with shape (1,3) and (3,1), how to compute their sum using an iterator? (★★☆)"
      ]
    },
    {
      "cell_type": "code",
      "metadata": {
        "id": "OYvxhI-G2CWh"
      },
      "source": [
        ""
      ],
      "execution_count": null,
      "outputs": []
    },
    {
      "cell_type": "markdown",
      "metadata": {
        "id": "zbhqE42m2CWi"
      },
      "source": [
        "#### 63. Create an array class that has a name attribute (★★☆)"
      ]
    },
    {
      "cell_type": "code",
      "metadata": {
        "id": "ogpLRfOU2CWi"
      },
      "source": [
        ""
      ],
      "execution_count": null,
      "outputs": []
    },
    {
      "cell_type": "markdown",
      "metadata": {
        "id": "VeLZm-4B2CWi"
      },
      "source": [
        "#### 64. Consider a given vector, how to add 1 to each element indexed by a second vector (be careful with repeated indices)? (★★★)"
      ]
    },
    {
      "cell_type": "code",
      "metadata": {
        "id": "8xHCKHvA2CWj"
      },
      "source": [
        ""
      ],
      "execution_count": null,
      "outputs": []
    },
    {
      "cell_type": "markdown",
      "metadata": {
        "id": "DNXuJdmH2CWj"
      },
      "source": [
        "#### 65. How to accumulate elements of a vector (X) to an array (F) based on an index list (I)? (★★★)"
      ]
    },
    {
      "cell_type": "code",
      "metadata": {
        "id": "jkQfq0R_2CWk"
      },
      "source": [
        ""
      ],
      "execution_count": null,
      "outputs": []
    },
    {
      "cell_type": "markdown",
      "metadata": {
        "id": "UGvdRZII2CWl"
      },
      "source": [
        "#### 66. Considering a (w,h,3) image of (dtype=ubyte), compute the number of unique colors (★★★)"
      ]
    },
    {
      "cell_type": "code",
      "metadata": {
        "id": "v9cTqlJq2CWl"
      },
      "source": [
        ""
      ],
      "execution_count": null,
      "outputs": []
    },
    {
      "cell_type": "markdown",
      "metadata": {
        "id": "q1CVNbwr2CWl"
      },
      "source": [
        "#### 67. Considering a four dimensions array, how to get sum over the last two axis at once? (★★★)"
      ]
    },
    {
      "cell_type": "code",
      "metadata": {
        "id": "Ge9g6VoA2CWm"
      },
      "source": [
        ""
      ],
      "execution_count": null,
      "outputs": []
    },
    {
      "cell_type": "markdown",
      "metadata": {
        "id": "QrIWGEY_2CWm"
      },
      "source": [
        "#### 68. Considering a one-dimensional vector D, how to compute means of subsets of D using a vector S of same size describing subset  indices? (★★★)"
      ]
    },
    {
      "cell_type": "code",
      "metadata": {
        "id": "Z1M-UR6o2CWm"
      },
      "source": [
        ""
      ],
      "execution_count": null,
      "outputs": []
    },
    {
      "cell_type": "markdown",
      "metadata": {
        "id": "BX9Fe-Vn2CWm"
      },
      "source": [
        "#### 69. How to get the diagonal of a dot product? (★★★)"
      ]
    },
    {
      "cell_type": "code",
      "metadata": {
        "id": "Zh9IZ3db2CWn"
      },
      "source": [
        ""
      ],
      "execution_count": null,
      "outputs": []
    },
    {
      "cell_type": "markdown",
      "metadata": {
        "id": "rfuAtfN_2CWn"
      },
      "source": [
        "#### 70. Consider the vector [1, 2, 3, 4, 5], how to build a new vector with 3 consecutive zeros interleaved between each value? (★★★)"
      ]
    },
    {
      "cell_type": "code",
      "metadata": {
        "id": "49J3mnwc2CWn"
      },
      "source": [
        ""
      ],
      "execution_count": null,
      "outputs": []
    },
    {
      "cell_type": "markdown",
      "metadata": {
        "id": "BpmDs29h2CWo"
      },
      "source": [
        "#### 71. Consider an array of dimension (5,5,3), how to mulitply it by an array with dimensions (5,5)? (★★★)"
      ]
    },
    {
      "cell_type": "code",
      "metadata": {
        "id": "t1Ci9rnF2CWo"
      },
      "source": [
        ""
      ],
      "execution_count": null,
      "outputs": []
    },
    {
      "cell_type": "markdown",
      "metadata": {
        "id": "s3ZI6Iw22CWo"
      },
      "source": [
        "#### 72. How to swap two rows of an array? (★★★)"
      ]
    },
    {
      "cell_type": "code",
      "metadata": {
        "id": "avtxTq1R2CWo"
      },
      "source": [
        ""
      ],
      "execution_count": null,
      "outputs": []
    },
    {
      "cell_type": "markdown",
      "metadata": {
        "id": "InPAUr4I2CWp"
      },
      "source": [
        "#### 73. Consider a set of 10 triplets describing 10 triangles (with shared vertices), find the set of unique line segments composing all the  triangles (★★★)"
      ]
    },
    {
      "cell_type": "code",
      "metadata": {
        "id": "TCA5rJ5d2CWp"
      },
      "source": [
        ""
      ],
      "execution_count": null,
      "outputs": []
    },
    {
      "cell_type": "markdown",
      "metadata": {
        "id": "GIkB5_dw2CWp"
      },
      "source": [
        "#### 74. Given an array C that is a bincount, how to produce an array A such that np.bincount(A) == C? (★★★)"
      ]
    },
    {
      "cell_type": "code",
      "metadata": {
        "id": "lV5r3Ub_2CWq"
      },
      "source": [
        ""
      ],
      "execution_count": null,
      "outputs": []
    },
    {
      "cell_type": "markdown",
      "metadata": {
        "id": "CKT8A4j72CWq"
      },
      "source": [
        "#### 75. How to compute averages using a sliding window over an array? (★★★)"
      ]
    },
    {
      "cell_type": "code",
      "metadata": {
        "id": "zdh4hM_Z2CWq"
      },
      "source": [
        ""
      ],
      "execution_count": null,
      "outputs": []
    },
    {
      "cell_type": "markdown",
      "metadata": {
        "id": "DN14ZYgk2CWq"
      },
      "source": [
        "#### 76. Consider a one-dimensional array Z, build a two-dimensional array whose first row is (Z[0],Z[1],Z[2]) and each subsequent row is  shifted by 1 (last row should be (Z[-3],Z[-2],Z[-1]) (★★★)"
      ]
    },
    {
      "cell_type": "code",
      "metadata": {
        "id": "P32maMD42CWr"
      },
      "source": [
        ""
      ],
      "execution_count": null,
      "outputs": []
    },
    {
      "cell_type": "markdown",
      "metadata": {
        "id": "oNV-k_662CWr"
      },
      "source": [
        "#### 77. How to negate a boolean, or to change the sign of a float inplace? (★★★)"
      ]
    },
    {
      "cell_type": "code",
      "metadata": {
        "id": "oj6pspcQ2CWr"
      },
      "source": [
        ""
      ],
      "execution_count": null,
      "outputs": []
    },
    {
      "cell_type": "markdown",
      "metadata": {
        "id": "A6RindGE2CWs"
      },
      "source": [
        "#### 78. Consider 2 sets of points P0,P1 describing lines (2d) and a point p, how to compute distance from p to each line i (P0[i],P1[i])? (★★★)"
      ]
    },
    {
      "cell_type": "code",
      "metadata": {
        "id": "bIZIK0RL2CWs"
      },
      "source": [
        ""
      ],
      "execution_count": null,
      "outputs": []
    },
    {
      "cell_type": "markdown",
      "metadata": {
        "id": "sr_EyfNe2CWs"
      },
      "source": [
        "#### 79. Consider 2 sets of points P0,P1 describing lines (2d) and a set of points P, how to compute distance from each point j (P[j]) to each line i (P0[i],P1[i])? (★★★)"
      ]
    },
    {
      "cell_type": "code",
      "metadata": {
        "id": "X9UIvTxv2CWt"
      },
      "source": [
        ""
      ],
      "execution_count": null,
      "outputs": []
    },
    {
      "cell_type": "markdown",
      "metadata": {
        "id": "xk1IRNTr2CWt"
      },
      "source": [
        "#### 80. Consider an arbitrary array, write a function that extract a subpart with a fixed shape and centered on a given element (pad with a `fill` value when necessary) (★★★)"
      ]
    },
    {
      "cell_type": "code",
      "metadata": {
        "id": "5aihzzix2CWt"
      },
      "source": [
        ""
      ],
      "execution_count": null,
      "outputs": []
    },
    {
      "cell_type": "markdown",
      "metadata": {
        "id": "Qj8uW00t2CWu"
      },
      "source": [
        "#### 81. Consider an array Z = [1,2,3,4,5,6,7,8,9,10,11,12,13,14], how to generate an array R = [[1,2,3,4], [2,3,4,5], [3,4,5,6], ..., [11,12,13,14]]? (★★★)"
      ]
    },
    {
      "cell_type": "code",
      "metadata": {
        "id": "HqMb2dKi2CWu"
      },
      "source": [
        ""
      ],
      "execution_count": null,
      "outputs": []
    },
    {
      "cell_type": "markdown",
      "metadata": {
        "id": "nF5zc1ma2CWu"
      },
      "source": [
        "#### 82. Compute a matrix rank (★★★)"
      ]
    },
    {
      "cell_type": "code",
      "metadata": {
        "id": "b7rmvIcr2CWv"
      },
      "source": [
        ""
      ],
      "execution_count": null,
      "outputs": []
    },
    {
      "cell_type": "markdown",
      "metadata": {
        "id": "Tj0VK6pR2CWv"
      },
      "source": [
        "#### 83. How to find the most frequent value in an array?"
      ]
    },
    {
      "cell_type": "code",
      "metadata": {
        "id": "BhSdP7yX2CWw"
      },
      "source": [
        ""
      ],
      "execution_count": null,
      "outputs": []
    },
    {
      "cell_type": "markdown",
      "metadata": {
        "id": "gPypcP__2CWw"
      },
      "source": [
        "#### 84. Extract all the contiguous 3x3 blocks from a random 10x10 matrix (★★★)"
      ]
    },
    {
      "cell_type": "code",
      "metadata": {
        "id": "r-4pD_bt2CWw"
      },
      "source": [
        ""
      ],
      "execution_count": null,
      "outputs": []
    },
    {
      "cell_type": "markdown",
      "metadata": {
        "id": "0xSAmoa92CWx"
      },
      "source": [
        "#### 85. Create a 2D array subclass such that Z[i,j] == Z[j,i] (★★★)"
      ]
    },
    {
      "cell_type": "code",
      "metadata": {
        "id": "XO6VHgn32CWx"
      },
      "source": [
        ""
      ],
      "execution_count": null,
      "outputs": []
    },
    {
      "cell_type": "markdown",
      "metadata": {
        "id": "kLSAbFDh2CWy"
      },
      "source": [
        "#### 86. Consider a set of p matrices wich shape (n,n) and a set of p vectors with shape (n,1). How to compute the sum of of the p matrix products at once? (result has shape (n,1)) (★★★)"
      ]
    },
    {
      "cell_type": "code",
      "metadata": {
        "id": "UkRjDGMO2CWy"
      },
      "source": [
        ""
      ],
      "execution_count": null,
      "outputs": []
    },
    {
      "cell_type": "markdown",
      "metadata": {
        "id": "UbRh-WUC2CWz"
      },
      "source": [
        "#### 87. Consider a 16x16 array, how to get the block-sum (block size is 4x4)? (★★★)"
      ]
    },
    {
      "cell_type": "code",
      "metadata": {
        "id": "muFhmmxF2CWz"
      },
      "source": [
        ""
      ],
      "execution_count": null,
      "outputs": []
    },
    {
      "cell_type": "markdown",
      "metadata": {
        "id": "8WQa1wF62CWz"
      },
      "source": [
        "#### 88. How to implement the Game of Life using numpy arrays? (★★★)"
      ]
    },
    {
      "cell_type": "code",
      "metadata": {
        "id": "lhCQ0XII2CW0"
      },
      "source": [
        ""
      ],
      "execution_count": null,
      "outputs": []
    },
    {
      "cell_type": "markdown",
      "metadata": {
        "id": "pHz7HdTR2CW0"
      },
      "source": [
        "#### 89. How to get the n largest values of an array (★★★)"
      ]
    },
    {
      "cell_type": "code",
      "metadata": {
        "id": "e13OdNO12CW0"
      },
      "source": [
        ""
      ],
      "execution_count": null,
      "outputs": []
    },
    {
      "cell_type": "markdown",
      "metadata": {
        "id": "OWyU_U_k2CW1"
      },
      "source": [
        "#### 90. Given an arbitrary number of vectors, build the cartesian product (every combinations of every item) (★★★)"
      ]
    },
    {
      "cell_type": "code",
      "metadata": {
        "id": "lcGXTPJp2CW1"
      },
      "source": [
        ""
      ],
      "execution_count": null,
      "outputs": []
    },
    {
      "cell_type": "markdown",
      "metadata": {
        "id": "cBv7m55B2CW1"
      },
      "source": [
        "#### 91. How to create a record array from a regular array? (★★★)"
      ]
    },
    {
      "cell_type": "code",
      "metadata": {
        "id": "2hlyl-V22CW2"
      },
      "source": [
        ""
      ],
      "execution_count": null,
      "outputs": []
    },
    {
      "cell_type": "markdown",
      "metadata": {
        "id": "fg0enrR92CW2"
      },
      "source": [
        "#### 92. Consider a large vector Z, compute Z to the power of 3 using 3 different methods (★★★)"
      ]
    },
    {
      "cell_type": "code",
      "metadata": {
        "id": "F9BCZmzg2CW2"
      },
      "source": [
        ""
      ],
      "execution_count": null,
      "outputs": []
    },
    {
      "cell_type": "markdown",
      "metadata": {
        "id": "x_f4xQY92CW2"
      },
      "source": [
        "#### 93. Consider two arrays A and B of shape (8,3) and (2,2). How to find rows of A that contain elements of each row of B regardless of the order of the elements in B? (★★★)"
      ]
    },
    {
      "cell_type": "code",
      "metadata": {
        "id": "ZZ9jis0v2CW3"
      },
      "source": [
        ""
      ],
      "execution_count": null,
      "outputs": []
    },
    {
      "cell_type": "markdown",
      "metadata": {
        "id": "QzBe84wY2CW3"
      },
      "source": [
        "#### 94. Considering a 10x3 matrix, extract rows with unequal values (e.g. [2,2,3]) (★★★)"
      ]
    },
    {
      "cell_type": "code",
      "metadata": {
        "id": "zlsPqEDI2CW3"
      },
      "source": [
        ""
      ],
      "execution_count": null,
      "outputs": []
    },
    {
      "cell_type": "markdown",
      "metadata": {
        "id": "r7wnugtZ2CW4"
      },
      "source": [
        "#### 95. Convert a vector of ints into a matrix binary representation (★★★)"
      ]
    },
    {
      "cell_type": "code",
      "metadata": {
        "id": "xiWNzQd02CW4"
      },
      "source": [
        ""
      ],
      "execution_count": null,
      "outputs": []
    },
    {
      "cell_type": "markdown",
      "metadata": {
        "id": "U-NINCE22CW5"
      },
      "source": [
        "#### 96. Given a two dimensional array, how to extract unique rows? (★★★)"
      ]
    },
    {
      "cell_type": "code",
      "metadata": {
        "id": "zjsYlxNV2CW5"
      },
      "source": [
        ""
      ],
      "execution_count": null,
      "outputs": []
    },
    {
      "cell_type": "markdown",
      "metadata": {
        "id": "pQW-eqbK2CW5"
      },
      "source": [
        "#### 97. Considering 2 vectors A & B, write the einsum equivalent of inner, outer, sum, and mul function (★★★)"
      ]
    },
    {
      "cell_type": "code",
      "metadata": {
        "id": "AzQQXjNb2CW5"
      },
      "source": [
        ""
      ],
      "execution_count": null,
      "outputs": []
    },
    {
      "cell_type": "markdown",
      "metadata": {
        "id": "zcoDjSoa2CW6"
      },
      "source": [
        "#### 98. Considering a path described by two vectors (X,Y), how to sample it using equidistant samples (★★★)?"
      ]
    },
    {
      "cell_type": "code",
      "metadata": {
        "id": "4WXRmRwB2CW6"
      },
      "source": [
        ""
      ],
      "execution_count": null,
      "outputs": []
    },
    {
      "cell_type": "markdown",
      "metadata": {
        "id": "IZBwuNN12CW6"
      },
      "source": [
        "#### 99. Given an integer n and a 2D array X, select from X the rows which can be interpreted as draws from a multinomial distribution with n degrees, i.e., the rows which only contain integers and which sum to n. (★★★)"
      ]
    },
    {
      "cell_type": "code",
      "metadata": {
        "id": "R3M0rt272CW7"
      },
      "source": [
        ""
      ],
      "execution_count": null,
      "outputs": []
    },
    {
      "cell_type": "markdown",
      "metadata": {
        "id": "ufysmRXh2CW7"
      },
      "source": [
        "#### 100. Compute bootstrapped 95% confidence intervals for the mean of a 1D array X (i.e., resample the elements of an array with replacement N times, compute the mean of each sample, and then compute percentiles over the means). (★★★)"
      ]
    },
    {
      "cell_type": "code",
      "metadata": {
        "id": "tGRE3dPq2CW7"
      },
      "source": [
        ""
      ],
      "execution_count": null,
      "outputs": []
    }
  ]
}